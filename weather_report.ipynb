{
  "nbformat": 4,
  "nbformat_minor": 0,
  "metadata": {
    "colab": {
      "provenance": [],
      "authorship_tag": "ABX9TyPSA2Dx/Y7RqpjDa6GOEpWZ",
      "include_colab_link": true
    },
    "kernelspec": {
      "name": "python3",
      "display_name": "Python 3"
    },
    "language_info": {
      "name": "python"
    }
  },
  "cells": [
    {
      "cell_type": "markdown",
      "metadata": {
        "id": "view-in-github",
        "colab_type": "text"
      },
      "source": [
        "<a href=\"https://colab.research.google.com/github/AnalystExplorer/projects/blob/main/weather_report.ipynb\" target=\"_parent\"><img src=\"https://colab.research.google.com/assets/colab-badge.svg\" alt=\"Open In Colab\"/></a>"
      ]
    },
    {
      "cell_type": "code",
      "execution_count": 1,
      "metadata": {
        "id": "nSDCX1ZMUZyj"
      },
      "outputs": [],
      "source": [
        "import plotly.express as px\n",
        "import pandas as pd\n",
        "\n",
        "\n",
        "import pandas as pd\n",
        "import seaborn as sns\n",
        "import seaborn as sns\n",
        "import matplotlib.pyplot as plt"
      ]
    },
    {
      "cell_type": "code",
      "source": [
        "data=pd.read_csv(\"/content/seattle-weather (1).csv\")\n",
        "print(data.head())"
      ],
      "metadata": {
        "id": "bmHAeCDaU7Pr"
      },
      "execution_count": null,
      "outputs": []
    },
    {
      "cell_type": "code",
      "source": [
        "# counting the number of weather categories\n",
        "sns.countplot(x=data[\"weather\"], palette=\"hls\")\n",
        "# Adding labels and title\n",
        "plt.xlabel(\"Weather\")\n",
        "plt.ylabel(\"Count\")\n",
        "plt.title(\"Distribution of Weather Types\")\n",
        "\n",
        "# Display the plot\n",
        "plt.show()\n"
      ],
      "metadata": {
        "colab": {
          "base_uri": "https://localhost:8080/",
          "height": 472
        },
        "id": "n5jqTTQ3VHUP",
        "outputId": "372d77b2-d2a7-40d4-e29e-5d8e2ae54206"
      },
      "execution_count": 53,
      "outputs": [
        {
          "output_type": "display_data",
          "data": {
            "text/plain": [
              "<Figure size 640x480 with 1 Axes>"
            ],
            "image/png": "[encoded data removed]"
          },
          "metadata": {}
        }
      ]
    },
    {
      "cell_type": "code",
      "source": [
        "data['date']"
      ],
      "metadata": {
        "id": "ctbYtridcGUv"
      },
      "execution_count": null,
      "outputs": []
    },
    {
      "cell_type": "code",
      "source": [
        "data['date']=pd.to_datetime(data['date'])"
      ],
      "metadata": {
        "id": "zjpmGC_acJEa"
      },
      "execution_count": 12,
      "outputs": []
    },
    {
      "cell_type": "code",
      "source": [
        "#Daily maximum temperature\n",
        "x=data['date']\n",
        "y=data['temp_max']\n",
        "\n",
        "plt.plot(x,y,color='red')\n",
        "plt.gca().set(xlabel='Date',ylabel='Temp_max in degree celcius',title='Distribution of maximum temperature')\n",
        "\n",
        "plt.show()"
      ],
      "metadata": {
        "id": "HoNuhtEDcQV4"
      },
      "execution_count": null,
      "outputs": []
    },
    {
      "cell_type": "code",
      "source": [
        "#Daily minimum temperature\n",
        "x=data['date']\n",
        "y=data['temp_min']\n",
        "\n",
        "plt.plot(x,y,color='red')\n",
        "plt.gca().set(xlabel='Date',ylabel='Temp_max in degree celcius',title='Distribution of minimum temperature')\n",
        "\n",
        "plt.show()"
      ],
      "metadata": {
        "id": "i2xBK3kJWmVu"
      },
      "execution_count": null,
      "outputs": []
    },
    {
      "cell_type": "code",
      "source": [
        "print(data.columns)\n"
      ],
      "metadata": {
        "colab": {
          "base_uri": "https://localhost:8080/"
        },
        "id": "lH7t3JHD4TCM",
        "outputId": "d85adccb-61eb-4f2b-c194-41551c624749"
      },
      "execution_count": 50,
      "outputs": [
        {
          "output_type": "stream",
          "name": "stdout",
          "text": [
            "Index(['date', 'precipitation', 'temp_max', 'temp_min', 'wind', 'weather',\n",
            "       'Month', 'month_year'],\n",
            "      dtype='object')\n"
          ]
        }
      ]
    },
    {
      "cell_type": "code",
      "source": [
        "# Convert the 'Date' column to a datetime format\n",
        "data['date'] = pd.to_datetime(data['date'])\n",
        "\n",
        "# Create a new column 'month_year' to store the year and month\n",
        "data['month_year'] = data['date'].dt.to_period('M')\n",
        "\n",
        "# Group by month_year, calculate maximum Temp_max, and reset index\n",
        "linechart = data.groupby(data['month_year'].dt.strftime('%Y : %b'))['temp_min'].min().reset_index()\n",
        "\n",
        "# Create a line chart using Plotly Express\n",
        "fig = px.line(linechart,\n",
        "               x='month_year',\n",
        "               y='temp_min',\n",
        "               height=500,\n",
        "               width=1000,\n",
        "               template='gridon')\n",
        "\n",
        "# Set chart title and axis labels\n",
        "fig.update_layout(title='Minimum Temperature Over Time',\n",
        "                   xaxis_title='Month and Year',\n",
        "                   yaxis_title='Minimum Temperature')\n",
        "\n",
        "# Display the plot\n",
        "fig.show()\n",
        "\n"
      ],
      "metadata": {
        "colab": {
          "base_uri": "https://localhost:8080/",
          "height": 517
        },
        "id": "x0LvSjot2jST",
        "outputId": "5e7c0b77-605d-47b8-8c44-583f94d0f657"
      },
      "execution_count": 48,
      "outputs": [
        {
          "output_type": "display_data",
          "data": {
            "text/html": [
              "<html>\n",
              "<head><meta charset=\"utf-8\" /></head>\n",
              "<body>\n",
              "    <div>            <script src=\"https://cdnjs.cloudflare.com/ajax/libs/mathjax/2.7.5/MathJax.js?config=TeX-AMS-MML_SVG\"></script><script type=\"text/javascript\">if (window.MathJax && window.MathJax.Hub && window.MathJax.Hub.Config) {window.MathJax.Hub.Config({SVG: {font: \"STIX-Web\"}});}</script>                <script type=\"text/javascript\">window.PlotlyConfig = {MathJaxConfig: 'local'};</script>\n",
              "        <script charset=\"utf-8\" src=\"https://cdn.plot.ly/plotly-2.24.1.min.js\"></script>                <div id=\"efb5530f-bb87-4690-81f8-a56eef62154a\" class=\"plotly-graph-div\" style=\"height:500px; width:1000px;\"></div>            <script type=\"text/javascript\">                                    window.PLOTLYENV=window.PLOTLYENV || {};                                    if (document.getElementById(\"efb5530f-bb87-4690-81f8-a56eef62154a\")) {                    Plotly.newPlot(                        \"efb5530f-bb87-4690-81f8-a56eef62154a\",                        [{\"hovertemplate\":\"month_year=%{x}\\u003cbr\\u003etemp_min=%{y}\\u003cextra\\u003e\\u003c\\u002fextra\\u003e\",\"legendgroup\":\"\",\"line\":{\"color\":\"#1F77B4\",\"dash\":\"solid\"},\"marker\":{\"symbol\":\"circle\"},\"mode\":\"lines\",\"name\":\"\",\"orientation\":\"v\",\"showlegend\":false,\"x\":[\"2012 : Apr\",\"2012 : Aug\",\"2012 : Dec\",\"2012 : Feb\",\"2012 : Jan\",\"2012 : Jul\",\"2012 : Jun\",\"2012 : Mar\",\"2012 : May\",\"2012 : Nov\",\"2012 : Oct\",\"2012 : Sep\",\"2013 : Apr\",\"2013 : Aug\",\"2013 : Dec\",\"2013 : Feb\",\"2013 : Jan\",\"2013 : Jul\",\"2013 : Jun\",\"2013 : Mar\",\"2013 : May\",\"2013 : Nov\",\"2013 : Oct\",\"2013 : Sep\",\"2014 : Apr\",\"2014 : Aug\",\"2014 : Dec\",\"2014 : Feb\",\"2014 : Jan\",\"2014 : Jul\",\"2014 : Jun\",\"2014 : Mar\",\"2014 : May\",\"2014 : Nov\",\"2014 : Oct\",\"2014 : Sep\",\"2015 : Apr\",\"2015 : Aug\",\"2015 : Dec\",\"2015 : Feb\",\"2015 : Jan\",\"2015 : Jul\",\"2015 : Jun\",\"2015 : Mar\",\"2015 : May\",\"2015 : Nov\",\"2015 : Oct\",\"2015 : Sep\"],\"xaxis\":\"x\",\"y\":[1.7,10.0,-1.7,-2.2,-3.3,9.4,6.1,-1.7,3.9,-0.6,3.3,7.8,3.3,13.3,-7.1,1.1,-4.4,11.1,10.0,0.0,3.3,-0.5,3.3,7.2,4.4,11.1,-3.2,-6.0,-0.5,11.7,8.9,1.1,7.2,-4.9,6.7,10.0,2.8,12.2,-2.1,0.6,-3.2,12.2,9.4,-0.5,6.1,-3.8,7.2,7.2],\"yaxis\":\"y\",\"type\":\"scatter\"}],                        {\"template\":{\"data\":{\"pie\":[{\"automargin\":true,\"type\":\"pie\"}]},\"layout\":{\"xaxis\":{\"showgrid\":true,\"title\":{\"standoff\":15}},\"yaxis\":{\"showgrid\":true,\"title\":{\"standoff\":15}}}},\"xaxis\":{\"anchor\":\"y\",\"domain\":[0.0,1.0],\"title\":{\"text\":\"Month and Year\"}},\"yaxis\":{\"anchor\":\"x\",\"domain\":[0.0,1.0],\"title\":{\"text\":\"Minimum Temperature\"}},\"legend\":{\"tracegroupgap\":0},\"margin\":{\"t\":60},\"height\":500,\"width\":1000,\"title\":{\"text\":\"Minimum Temperature Over Time\"}},                        {\"responsive\": true}                    ).then(function(){\n",
              "                            \n",
              "var gd = document.getElementById('efb5530f-bb87-4690-81f8-a56eef62154a');\n",
              "var x = new MutationObserver(function (mutations, observer) {{\n",
              "        var display = window.getComputedStyle(gd).display;\n",
              "        if (!display || display === 'none') {{\n",
              "            console.log([gd, 'removed!']);\n",
              "            Plotly.purge(gd);\n",
              "            observer.disconnect();\n",
              "        }}\n",
              "}});\n",
              "\n",
              "// Listen for the removal of the full notebook cells\n",
              "var notebookContainer = gd.closest('#notebook-container');\n",
              "if (notebookContainer) {{\n",
              "    x.observe(notebookContainer, {childList: true});\n",
              "}}\n",
              "\n",
              "// Listen for the clearing of the current output cell\n",
              "var outputEl = gd.closest('.output');\n",
              "if (outputEl) {{\n",
              "    x.observe(outputEl, {childList: true});\n",
              "}}\n",
              "\n",
              "                        })                };                            </script>        </div>\n",
              "</body>\n",
              "</html>"
            ]
          },
          "metadata": {}
        }
      ]
    },
    {
      "cell_type": "code",
      "source": [
        "import pandas as pd\n",
        "import plotly.express as px\n",
        "\n",
        "# Assuming you have already loaded your data into the 'data' DataFrame\n",
        "# If not, you should load your data here using data = pd.read_csv('your_data.csv')\n",
        "\n",
        "# Convert the 'Date' column to a datetime format\n",
        "data['date'] = pd.to_datetime(data['date'])\n",
        "\n",
        "# Create a new column 'month_year' to store the year and month\n",
        "data['month_year'] = data['date'].dt.to_period('M')\n",
        "\n",
        "# Group by month_year, calculate maximum Temp_max, and reset index\n",
        "linechart = data.groupby(data['month_year'].dt.strftime('%Y : %b'))['temp_max'].min().reset_index()\n",
        "\n",
        "# Create a line chart using Plotly Express\n",
        "fig = px.line(linechart,\n",
        "               x='month_year',\n",
        "               y='temp_max',\n",
        "               height=500,\n",
        "               width=1000,\n",
        "               template='gridon')\n",
        "\n",
        "# Set chart title and axis labels\n",
        "fig.update_layout(title='Maximum Temperature Over Time',\n",
        "                   xaxis_title='Month and Year',\n",
        "                   yaxis_title='Maximum Temperature')\n",
        "\n",
        "# Display the plot\n",
        "fig.show()"
      ],
      "metadata": {
        "colab": {
          "base_uri": "https://localhost:8080/",
          "height": 517
        },
        "id": "thdugOoqV6yM",
        "outputId": "fe9ce0b9-c3dc-4a07-dc10-f23c37bd334e"
      },
      "execution_count": 52,
      "outputs": [
        {
          "output_type": "display_data",
          "data": {
            "text/html": [
              "<html>\n",
              "<head><meta charset=\"utf-8\" /></head>\n",
              "<body>\n",
              "    <div>            <script src=\"https://cdnjs.cloudflare.com/ajax/libs/mathjax/2.7.5/MathJax.js?config=TeX-AMS-MML_SVG\"></script><script type=\"text/javascript\">if (window.MathJax && window.MathJax.Hub && window.MathJax.Hub.Config) {window.MathJax.Hub.Config({SVG: {font: \"STIX-Web\"}});}</script>                <script type=\"text/javascript\">window.PlotlyConfig = {MathJaxConfig: 'local'};</script>\n",
              "        <script charset=\"utf-8\" src=\"https://cdn.plot.ly/plotly-2.24.1.min.js\"></script>                <div id=\"7faf4ecb-3699-45eb-9efe-5ccb763b8fed\" class=\"plotly-graph-div\" style=\"height:500px; width:1000px;\"></div>            <script type=\"text/javascript\">                                    window.PLOTLYENV=window.PLOTLYENV || {};                                    if (document.getElementById(\"7faf4ecb-3699-45eb-9efe-5ccb763b8fed\")) {                    Plotly.newPlot(                        \"7faf4ecb-3699-45eb-9efe-5ccb763b8fed\",                        [{\"hovertemplate\":\"month_year=%{x}\\u003cbr\\u003etemp_max=%{y}\\u003cextra\\u003e\\u003c\\u002fextra\\u003e\",\"legendgroup\":\"\",\"line\":{\"color\":\"#1F77B4\",\"dash\":\"solid\"},\"marker\":{\"symbol\":\"circle\"},\"mode\":\"lines\",\"name\":\"\",\"orientation\":\"v\",\"showlegend\":false,\"x\":[\"2012 : Apr\",\"2012 : Aug\",\"2012 : Dec\",\"2012 : Feb\",\"2012 : Jan\",\"2012 : Jul\",\"2012 : Jun\",\"2012 : Mar\",\"2012 : May\",\"2012 : Nov\",\"2012 : Oct\",\"2012 : Sep\",\"2013 : Apr\",\"2013 : Aug\",\"2013 : Dec\",\"2013 : Feb\",\"2013 : Jan\",\"2013 : Jul\",\"2013 : Jun\",\"2013 : Mar\",\"2013 : May\",\"2013 : Nov\",\"2013 : Oct\",\"2013 : Sep\",\"2014 : Apr\",\"2014 : Aug\",\"2014 : Dec\",\"2014 : Feb\",\"2014 : Jan\",\"2014 : Jul\",\"2014 : Jun\",\"2014 : Mar\",\"2014 : May\",\"2014 : Nov\",\"2014 : Oct\",\"2014 : Sep\",\"2015 : Apr\",\"2015 : Aug\",\"2015 : Dec\",\"2015 : Feb\",\"2015 : Jan\",\"2015 : Jul\",\"2015 : Jun\",\"2015 : Mar\",\"2015 : May\",\"2015 : Nov\",\"2015 : Oct\",\"2015 : Sep\"],\"xaxis\":\"x\",\"y\":[8.9,21.1,3.3,5.0,-1.1,18.3,12.8,5.0,11.1,7.8,7.8,16.1,7.8,17.2,0.0,6.1,1.1,19.4,17.2,7.2,11.1,7.8,10.0,13.9,11.1,17.8,3.3,-1.6,5.6,18.9,15.6,7.2,13.3,2.8,12.8,16.7,11.1,18.3,4.4,9.4,5.0,21.1,16.1,10.6,12.2,1.7,12.2,15.6],\"yaxis\":\"y\",\"type\":\"scatter\"}],                        {\"template\":{\"data\":{\"pie\":[{\"automargin\":true,\"type\":\"pie\"}]},\"layout\":{\"xaxis\":{\"showgrid\":true,\"title\":{\"standoff\":15}},\"yaxis\":{\"showgrid\":true,\"title\":{\"standoff\":15}}}},\"xaxis\":{\"anchor\":\"y\",\"domain\":[0.0,1.0],\"title\":{\"text\":\"Month and Year\"}},\"yaxis\":{\"anchor\":\"x\",\"domain\":[0.0,1.0],\"title\":{\"text\":\"Maximum Temperature\"}},\"legend\":{\"tracegroupgap\":0},\"margin\":{\"t\":60},\"height\":500,\"width\":1000,\"title\":{\"text\":\"Maximum Temperature Over Time\"}},                        {\"responsive\": true}                    ).then(function(){\n",
              "                            \n",
              "var gd = document.getElementById('7faf4ecb-3699-45eb-9efe-5ccb763b8fed');\n",
              "var x = new MutationObserver(function (mutations, observer) {{\n",
              "        var display = window.getComputedStyle(gd).display;\n",
              "        if (!display || display === 'none') {{\n",
              "            console.log([gd, 'removed!']);\n",
              "            Plotly.purge(gd);\n",
              "            observer.disconnect();\n",
              "        }}\n",
              "}});\n",
              "\n",
              "// Listen for the removal of the full notebook cells\n",
              "var notebookContainer = gd.closest('#notebook-container');\n",
              "if (notebookContainer) {{\n",
              "    x.observe(notebookContainer, {childList: true});\n",
              "}}\n",
              "\n",
              "// Listen for the clearing of the current output cell\n",
              "var outputEl = gd.closest('.output');\n",
              "if (outputEl) {{\n",
              "    x.observe(outputEl, {childList: true});\n",
              "}}\n",
              "\n",
              "                        })                };                            </script>        </div>\n",
              "</body>\n",
              "</html>"
            ]
          },
          "metadata": {}
        }
      ]
    },
    {
      "cell_type": "code",
      "source": [
        "pip install fpdf"
      ],
      "metadata": {
        "colab": {
          "base_uri": "https://localhost:8080/"
        },
        "id": "YkZMOD75kJFE",
        "outputId": "3edbbd32-f611-43c8-e457-6118117993d6"
      },
      "execution_count": 57,
      "outputs": [
        {
          "output_type": "stream",
          "name": "stdout",
          "text": [
            "Collecting fpdf\n",
            "  Downloading fpdf-1.7.2.tar.gz (39 kB)\n",
            "  Preparing metadata (setup.py) ... \u001b[?25l\u001b[?25hdone\n",
            "Building wheels for collected packages: fpdf\n",
            "  Building wheel for fpdf (setup.py) ... \u001b[?25l\u001b[?25hdone\n",
            "  Created wheel for fpdf: filename=fpdf-1.7.2-py2.py3-none-any.whl size=40703 sha256=30e592e03e9e4a543bbaf76754d78157e0f9b05b8e64f17a1786a13557ef18f7\n",
            "  Stored in directory: /root/.cache/pip/wheels/f9/95/ba/f418094659025eb9611f17cbcaf2334236bf39a0c3453ea455\n",
            "Successfully built fpdf\n",
            "Installing collected packages: fpdf\n",
            "Successfully installed fpdf-1.7.2\n"
          ]
        }
      ]
    },
    {
      "cell_type": "code",
      "source": [
        "from fpdf import FPDF"
      ],
      "metadata": {
        "id": "Ogvm0Vp8jJo8"
      },
      "execution_count": 58,
      "outputs": []
    },
    {
      "cell_type": "code",
      "source": [
        "#Download combine report in pdf\n",
        "\n",
        "font_color = (64,64,64)\n",
        "\n",
        "#find all PNG files in the output folder\n",
        "char_filenames =[str(chart_path) for chart_path in output_dir.glob(\"*.png\")]\n",
        "\n",
        "#create a pdf document and set the page size\n",
        "pdf= FPDF()\n",
        "pdf.set_font('Arial','B',24)\n",
        "\n",
        "#add the overall page title\n",
        "title = f\"weather report {date.today().strftime(%m%d%y)}\"\n",
        "pdf.set_text_color(*font_color)\n",
        "pdf.cell(0,20,title,align='c',ln=1)\n",
        "\n",
        "#addeach chart to the pdf documents\n",
        "\n",
        "for chart_filename in chart_filenames:\n",
        "  pdf.ln(10)\n",
        "  pdf.image(chart_filename,x=None,y=None)\n",
        "\n",
        "#save the pdf document to a file on disk\n",
        "pdf.output(output_dir / \"weather_report.pdf\",\"F\")"
      ],
      "metadata": {
        "id": "b2wsxN5zYJwm"
      },
      "execution_count": null,
      "outputs": []
    }
  ]
}